{
 "cells": [
  {
   "cell_type": "markdown",
   "id": "fcb894b0-654f-4d50-980b-017c35a939a8",
   "metadata": {},
   "source": [
    "# Understanding Probability Distributions"
   ]
  },
  {
   "cell_type": "code",
   "execution_count": 1,
   "id": "05a4c0cc-d2b4-4606-a10e-2ba5e64f52c1",
   "metadata": {},
   "outputs": [
    {
     "name": "stderr",
     "output_type": "stream",
     "text": [
      "/usr/lib/python3/dist-packages/scipy/__init__.py:146: UserWarning: A NumPy version >=1.17.3 and <1.25.0 is required for this version of SciPy (detected version 1.26.2\n",
      "  warnings.warn(f\"A NumPy version >={np_minversion} and <{np_maxversion}\"\n"
     ]
    }
   ],
   "source": [
    "import numpy as np\n",
    "import matplotlib.pyplot as plt\n",
    "import scipy.stats as stats\n",
    "from scipy.stats import poisson"
   ]
  },
  {
   "cell_type": "markdown",
   "id": "99076f84-7ced-4ea5-a486-a187b8acb410",
   "metadata": {},
   "source": [
    "## Uniform Distribution\n",
    "#### Distribution of scores obtained by students in a fair dice rolling game."
   ]
  },
  {
   "cell_type": "code",
   "execution_count": 2,
   "id": "31781d6a-567c-4828-827c-6b30423b3260",
   "metadata": {},
   "outputs": [],
   "source": [
    "# Simulate rolling a fair six-sided die 1000 times\n",
    "num_rolls = 1000\n",
    "dice_scores = np.random.randint(1, 7, size=num_rolls)"
   ]
  },
  {
   "cell_type": "code",
   "execution_count": 3,
   "id": "cd10d9a8-c03d-4fa6-813c-41f41f537622",
   "metadata": {},
   "outputs": [
    {
     "data": {
      "image/png": "[encoded data removed]",
      "text/plain": [
       "<Figure size 432x288 with 1 Axes>"
      ]
     },
     "metadata": {
      "needs_background": "light"
     },
     "output_type": "display_data"
    }
   ],
   "source": [
    "# Plot the histogram of dice scores\n",
    "plt.hist(dice_scores, bins=6, density=True, color='skyblue', edgecolor='black', alpha=0.7)\n",
    "\n",
    "# Add labels and title\n",
    "plt.xlabel('Dice Score')\n",
    "plt.ylabel('Probability Density')\n",
    "plt.title('Uniform Distribution of Dice Scores')\n",
    "\n",
    "# Show the plot\n",
    "plt.show()"
   ]
  },
  {
   "cell_type": "code",
   "execution_count": 4,
   "id": "cec0ffb7-d069-4be6-bacd-ab8da43f27c8",
   "metadata": {},
   "outputs": [
    {
     "name": "stdout",
     "output_type": "stream",
     "text": [
      "Mean of dice scores: 3.531\n",
      "Variance of dice scores: 2.945039\n"
     ]
    }
   ],
   "source": [
    "# Calculate mean and variance of dice scores\n",
    "mean_score = np.mean(dice_scores)\n",
    "variance_score = np.var(dice_scores)\n",
    "\n",
    "# Print results\n",
    "print(\"Mean of dice scores:\", mean_score)\n",
    "print(\"Variance of dice scores:\", variance_score)"
   ]
  },
  {
   "cell_type": "markdown",
   "id": "82093078-57ea-4f27-9d07-61ac0cf9d6fe",
   "metadata": {},
   "source": [
    "<div class=\"alert alert-block alert-success\">\r\n",
    "<b>\r\n",
    "<ul>\r\n",
    "    <li>The histogram illustrates a uniform distribution, indicating each dice score (1 to 6) has an equal chance of occurring, as expected in a fair game.</li>\r\n",
    "    <li>With a mean of approximately 3.5 and a variance of about 2.9, the distribution's central tendency and spread are quantified.</li>\r\n",
    "    <li>The uniform distribution is crucial in scenarios like lottery drawings, random number generation, and fair games, where all outcomes are equally probable.</li>\r\n",
    "</ul>\r\n",
    "</b>\r\n",
    "</div>\r\n"
   ]
  },
  {
   "cell_type": "markdown",
   "id": "64869106-0c47-4953-8160-0bcc9f3e764c",
   "metadata": {},
   "source": [
    "## Binomial Distribution\n",
    "#### A scenario where we flip a biased coin multiple times and count the number of heads obtained."
   ]
  },
  {
   "cell_type": "code",
   "execution_count": 5,
   "id": "ef310a2a-4efc-48f1-bd8e-022f771457b5",
   "metadata": {},
   "outputs": [],
   "source": [
    "# Parameters for the binomial distribution\n",
    "num_trials = 1000  # Number of trials (coin flips)\n",
    "p_heads = 0.6      # Probability of getting heads (biased coin)"
   ]
  },
  {
   "cell_type": "code",
   "execution_count": 6,
   "id": "4b134f16-6422-4674-85b2-487310f9c084",
   "metadata": {},
   "outputs": [],
   "source": [
    "# Simulate flipping a biased coin 1000 times\n",
    "num_heads = np.random.binomial(num_trials, p_heads, size=1000)"
   ]
  },
  {
   "cell_type": "code",
   "execution_count": 7,
   "id": "af26e119-8bf3-4c8c-9143-554c182ddb8f",
   "metadata": {},
   "outputs": [
    {
     "data": {
      "image/png": "[encoded data removed]",
      "text/plain": [
       "<Figure size 432x288 with 1 Axes>"
      ]
     },
     "metadata": {
      "needs_background": "light"
     },
     "output_type": "display_data"
    }
   ],
   "source": [
    "# Plot the histogram of the number of heads\n",
    "plt.hist(num_heads, bins=range(num_trials+2), density=True, color='skyblue', edgecolor='black', alpha=0.7)\n",
    "\n",
    "# Add labels and title\n",
    "plt.xlabel('Number of Heads')\n",
    "plt.ylabel('Probability Density')\n",
    "plt.title('Binomial Distribution of Coin Flips')\n",
    "\n",
    "# Show the plot\n",
    "plt.show()"
   ]
  },
  {
   "cell_type": "code",
   "execution_count": 8,
   "id": "4c4d9e00-ad6a-452e-9069-2d7196583bff",
   "metadata": {},
   "outputs": [
    {
     "name": "stdout",
     "output_type": "stream",
     "text": [
      "Mean number of heads: 599.863\n",
      "Variance of the number of heads: 251.4002309999999\n"
     ]
    }
   ],
   "source": [
    "# Calculate mean and variance of the number of heads\n",
    "mean_heads = np.mean(num_heads)\n",
    "variance_heads = np.var(num_heads)\n",
    "\n",
    "# Print results\n",
    "print(\"Mean number of heads:\", mean_heads)\n",
    "print(\"Variance of the number of heads:\", variance_heads)"
   ]
  },
  {
   "cell_type": "markdown",
   "id": "61661c5a-afb7-48b1-84ef-02b14b424f83",
   "metadata": {},
   "source": [
    "<div class=\"alert alert-block alert-success\">\n",
    "<b>\n",
    "<ul>\n",
    "    <li>The histogram demonstrates a binomial distribution, showing the number of heads obtained from flipping a biased coin multiple times. With a mean of approximately 600 and a variance of about 210, the distribution's central tendency and spread are quantified.</li>\n",
    "    <li>The binomial distribution is applicable in scenarios involving repeated independent trials with two possible outcomes, such as coin flips, success/failure experiments, and reliability testing.</li>\n",
    "</ul>\n",
    "</b>\n",
    "</div>"
   ]
  },
  {
   "cell_type": "markdown",
   "id": "ccf47227-cf0f-4027-acb7-e97ddd73a443",
   "metadata": {},
   "source": [
    "## Normal Distribution\n",
    "#### A scenario where we measure the heights of individuals in a population. a scenario where we measure the heights of individuals in a population. "
   ]
  },
  {
   "cell_type": "code",
   "execution_count": 9,
   "id": "d315f87f-b870-4c1d-ab3c-b21dd87782f2",
   "metadata": {},
   "outputs": [],
   "source": [
    "# Simulate heights of individuals in a population\n",
    "mean_height = 170  # Mean height in centimeters\n",
    "std_dev_height = 10  # Standard deviation of heights in centimeters\n",
    "num_individuals = 1000  # Number of individuals in the population"
   ]
  },
  {
   "cell_type": "code",
   "execution_count": 10,
   "id": "4fb0c6dd-02f0-4a5a-b996-47c877fc6967",
   "metadata": {},
   "outputs": [],
   "source": [
    "# Generate random heights from a normal distribution\n",
    "heights = np.random.normal(mean_height, std_dev_height, num_individuals)\n"
   ]
  },
  {
   "cell_type": "code",
   "execution_count": 11,
   "id": "d036f97c-c1b4-4ff0-a0d3-05c1d94fd209",
   "metadata": {},
   "outputs": [
    {
     "data": {
      "image/png": "[encoded data removed]",
      "text/plain": [
       "<Figure size 432x288 with 1 Axes>"
      ]
     },
     "metadata": {
      "needs_background": "light"
     },
     "output_type": "display_data"
    }
   ],
   "source": [
    "# Plot the histogram of heights\n",
    "plt.hist(heights, bins=30, density=True, color='skyblue', edgecolor='black', alpha=0.7)\n",
    "\n",
    "# Add labels and title\n",
    "plt.xlabel('Height (cm)')\n",
    "plt.ylabel('Probability Density')\n",
    "plt.title('Normal Distribution of Heights')\n",
    "\n",
    "# Show the plot\n",
    "plt.grid(True)\n",
    "plt.show()"
   ]
  },
  {
   "cell_type": "code",
   "execution_count": 12,
   "id": "56bee664-248a-41f1-bd52-b3ffc42f0249",
   "metadata": {},
   "outputs": [
    {
     "name": "stdout",
     "output_type": "stream",
     "text": [
      "Mean height observed: 169.49453589103786\n",
      "Standard deviation of heights observed: 10.086409775546535\n"
     ]
    }
   ],
   "source": [
    "# Calculate mean and standard deviation of heights\n",
    "mean_height_observed = np.mean(heights)\n",
    "std_dev_height_observed = np.std(heights)\n",
    "\n",
    "# Print results\n",
    "print(\"Mean height observed:\", mean_height_observed)\n",
    "print(\"Standard deviation of heights observed:\", std_dev_height_observed)"
   ]
  },
  {
   "cell_type": "markdown",
   "id": "682d9f7a-a2a4-4230-bb25-79361e0301d5",
   "metadata": {},
   "source": [
    "<div class=\"alert alert-block alert-success\">\n",
    "<b>\n",
    "<ul>\n",
    "    <li>The histogram illustrates a normal distribution of heights, with a mean of approximately 169 cm and a standard deviation of about 9.8 cm. This distribution pattern is commonly observed in various natural phenomena.</li>\n",
    "    <li>The normal distribution is widely applicable in real-world scenarios, such as the distribution of heights, weights, IQ scores, and other physical and social attributes.</li>\n",
    "</ul>\n",
    "</b>\n",
    "</div>"
   ]
  },
  {
   "cell_type": "markdown",
   "id": "5d539e77-df99-42ba-a1e0-2b46aa5d9d6e",
   "metadata": {},
   "source": [
    "## Poisson Distribution\n",
    "#### A scenario where we model the number of emails received by a person in a given time period."
   ]
  },
  {
   "cell_type": "code",
   "execution_count": 13,
   "id": "3563d724-f290-44b1-8c08-a01ed774dcc4",
   "metadata": {},
   "outputs": [],
   "source": [
    "# Parameters for the Poisson distribution\n",
    "average_emails_per_hour = 5  # Average number of emails received per hour\n",
    "num_hours = 24  # Number of hours in a day"
   ]
  },
  {
   "cell_type": "code",
   "execution_count": 14,
   "id": "bddc63d9-9ba9-49bd-9ef9-3955d607e176",
   "metadata": {},
   "outputs": [],
   "source": [
    "# Generate the Poisson distribution\n",
    "num_emails_per_day = poisson.rvs(average_emails_per_hour * num_hours, size=1000)"
   ]
  },
  {
   "cell_type": "code",
   "execution_count": 15,
   "id": "9e24775c-6686-4562-888b-493558835151",
   "metadata": {},
   "outputs": [],
   "source": [
    "# Calculate the range for bins\n",
    "max_emails = np.max(num_emails_per_day)\n",
    "bins = np.arange(0, max_emails+2)"
   ]
  },
  {
   "cell_type": "code",
   "execution_count": 16,
   "id": "cea4f65d-6045-41e1-92d5-b652f43f6846",
   "metadata": {},
   "outputs": [
    {
     "data": {
      "image/png": "[encoded data removed]",
      "text/plain": [
       "<Figure size 432x288 with 1 Axes>"
      ]
     },
     "metadata": {
      "needs_background": "light"
     },
     "output_type": "display_data"
    }
   ],
   "source": [
    "# Plot the histogram of the number of emails\n",
    "plt.hist(num_emails_per_day, bins=bins, density=True, color='skyblue', edgecolor='black', alpha=0.7)\n",
    "\n",
    "# Add labels and title\n",
    "plt.xlabel('Number of Emails')\n",
    "plt.ylabel('Probability Density')\n",
    "plt.title('Poisson Distribution of Emails Received')\n",
    "\n",
    "# Show the plot\n",
    "plt.grid(True)\n",
    "plt.show()\n"
   ]
  },
  {
   "cell_type": "code",
   "execution_count": 17,
   "id": "29f20217-2f0e-4e38-b86a-1c0bfe275d55",
   "metadata": {},
   "outputs": [
    {
     "name": "stdout",
     "output_type": "stream",
     "text": [
      "Mean emails observed: 119.878\n",
      "Email variance observed: 115.063116\n"
     ]
    }
   ],
   "source": [
    "# Calculate mean and variance of the number of emails\n",
    "mean_emails = np.mean(num_emails_per_day)\n",
    "variance_emails = np.var(num_emails_per_day)\n",
    "\n",
    "# Print results\n",
    "print(\"Mean emails observed:\", mean_emails)\n",
    "print(\"Email variance observed:\", variance_emails)"
   ]
  },
  {
   "cell_type": "markdown",
   "id": "3fb45cfc-31fa-4d21-9237-4248c5fd950d",
   "metadata": {},
   "source": [
    "<div class=\"alert alert-block alert-success\">\n",
    "<b>\n",
    "<ul>\n",
    "    <li>The histogram of the number of emails received per day demonstrates a Poisson distribution, which is common in scenarios where events occur at a constant average rate.</li>\n",
    "    <li>The mean number of emails received per day is approximately 120 and the variance is approximately 122.</li>\n",
    "    <li>The Poisson distribution is applicable in various real-world scenarios, such as modeling the number of phone calls received by a call center in a given time period, the number of accidents occurring at a particular intersection, or the number of emails received by an individual.</li>\n",
    "</ul>\n",
    "</b>\n",
    "</div>"
   ]
  },
  {
   "cell_type": "markdown",
   "id": "7c4cccf4-2b80-4c23-b8cf-a2107acd3349",
   "metadata": {},
   "source": [
    "<div class=\"alert alert-block alert-warning\">\n",
    "<b>\n",
    "END\n",
    "</b>\n",
    "</div>"
   ]
  }
 ],
 "metadata": {
  "kernelspec": {
   "display_name": "Python 3 (ipykernel)",
   "language": "python",
   "name": "python3"
  },
  "language_info": {
   "codemirror_mode": {
    "name": "ipython",
    "version": 3
   },
   "file_extension": ".py",
   "mimetype": "text/x-python",
   "name": "python",
   "nbconvert_exporter": "python",
   "pygments_lexer": "ipython3",
   "version": "3.10.12"
  }
 },
 "nbformat": 4,
 "nbformat_minor": 5
}
