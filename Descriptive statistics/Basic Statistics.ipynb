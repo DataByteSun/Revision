{
 "cells": [
  {
   "cell_type": "markdown",
   "id": "e444cdc4-0dea-4dd2-8884-3aafeac11610",
   "metadata": {},
   "source": [
    "# Understand measures such as mean, median, mode, variance, and standard deviation."
   ]
  },
  {
   "cell_type": "markdown",
   "id": "cdbdf5e5-7167-45b7-8372-3dc6928f2064",
   "metadata": {},
   "source": [
    "#### Dataset: India_Inflation_Rate_Historical_Data.csv"
   ]
  },
  {
   "cell_type": "markdown",
   "id": "b7c8bffb-95a2-4329-a2d2-460cdac05a66",
   "metadata": {},
   "source": [
    "### Dataset preparation"
   ]
  },
  {
   "cell_type": "code",
   "execution_count": 1,
   "id": "f3a27852-49cf-4494-9c2c-15309dfea44b",
   "metadata": {},
   "outputs": [],
   "source": [
    "#Library Import\n",
    "import pandas as pd\n",
    "import numpy as np"
   ]
  },
  {
   "cell_type": "code",
   "execution_count": 2,
   "id": "6515c51b-7612-4917-805e-776d508ac2b6",
   "metadata": {},
   "outputs": [
    {
     "data": {
      "text/html": [
       "<div>\n",
       "<style scoped>\n",
       "    .dataframe tbody tr th:only-of-type {\n",
       "        vertical-align: middle;\n",
       "    }\n",
       "\n",
       "    .dataframe tbody tr th {\n",
       "        vertical-align: top;\n",
       "    }\n",
       "\n",
       "    .dataframe thead th {\n",
       "        text-align: right;\n",
       "    }\n",
       "</style>\n",
       "<table border=\"1\" class=\"dataframe\">\n",
       "  <thead>\n",
       "    <tr style=\"text-align: right;\">\n",
       "      <th></th>\n",
       "      <th>Unnamed: 0</th>\n",
       "      <th>year</th>\n",
       "      <th>Inflation_Rate</th>\n",
       "      <th>Annual_percent_geowth</th>\n",
       "    </tr>\n",
       "  </thead>\n",
       "  <tbody>\n",
       "    <tr>\n",
       "      <th>0</th>\n",
       "      <td>0</td>\n",
       "      <td>2022</td>\n",
       "      <td>6.70%</td>\n",
       "      <td>1.57%</td>\n",
       "    </tr>\n",
       "    <tr>\n",
       "      <th>1</th>\n",
       "      <td>1</td>\n",
       "      <td>2021</td>\n",
       "      <td>5.13%</td>\n",
       "      <td>-1.49%</td>\n",
       "    </tr>\n",
       "    <tr>\n",
       "      <th>2</th>\n",
       "      <td>2</td>\n",
       "      <td>2020</td>\n",
       "      <td>6.62%</td>\n",
       "      <td>2.89%</td>\n",
       "    </tr>\n",
       "    <tr>\n",
       "      <th>3</th>\n",
       "      <td>3</td>\n",
       "      <td>2019</td>\n",
       "      <td>3.73%</td>\n",
       "      <td>-0.21%</td>\n",
       "    </tr>\n",
       "    <tr>\n",
       "      <th>4</th>\n",
       "      <td>4</td>\n",
       "      <td>2018</td>\n",
       "      <td>3.94%</td>\n",
       "      <td>0.61%</td>\n",
       "    </tr>\n",
       "  </tbody>\n",
       "</table>\n",
       "</div>"
      ],
      "text/plain": [
       "   Unnamed: 0  year Inflation_Rate Annual_percent_geowth\n",
       "0           0  2022          6.70%                 1.57%\n",
       "1           1  2021          5.13%                -1.49%\n",
       "2           2  2020          6.62%                 2.89%\n",
       "3           3  2019          3.73%                -0.21%\n",
       "4           4  2018          3.94%                 0.61%"
      ]
     },
     "execution_count": 2,
     "metadata": {},
     "output_type": "execute_result"
    }
   ],
   "source": [
    "#Dataset import\n",
    "data = pd.read_csv(\"pra_datasets/India_Inflation_Rate_Historical_Data.csv\")\n",
    "data.head()"
   ]
  },
  {
   "cell_type": "markdown",
   "id": "ca57960a-31fb-48e2-9d84-bd16729d5623",
   "metadata": {},
   "source": [
    "### Data preprocessing"
   ]
  },
  {
   "cell_type": "code",
   "execution_count": 3,
   "id": "ffbad97b-8c15-4dfc-938a-7b0fab45ad7a",
   "metadata": {},
   "outputs": [
    {
     "data": {
      "text/html": [
       "<div>\n",
       "<style scoped>\n",
       "    .dataframe tbody tr th:only-of-type {\n",
       "        vertical-align: middle;\n",
       "    }\n",
       "\n",
       "    .dataframe tbody tr th {\n",
       "        vertical-align: top;\n",
       "    }\n",
       "\n",
       "    .dataframe thead th {\n",
       "        text-align: right;\n",
       "    }\n",
       "</style>\n",
       "<table border=\"1\" class=\"dataframe\">\n",
       "  <thead>\n",
       "    <tr style=\"text-align: right;\">\n",
       "      <th></th>\n",
       "      <th>Sr. No.</th>\n",
       "      <th>year</th>\n",
       "      <th>Inflation_rate(%)</th>\n",
       "      <th>Annual_growth(%)</th>\n",
       "    </tr>\n",
       "  </thead>\n",
       "  <tbody>\n",
       "    <tr>\n",
       "      <th>0</th>\n",
       "      <td>0</td>\n",
       "      <td>2022</td>\n",
       "      <td>6.70</td>\n",
       "      <td>1.57</td>\n",
       "    </tr>\n",
       "    <tr>\n",
       "      <th>1</th>\n",
       "      <td>1</td>\n",
       "      <td>2021</td>\n",
       "      <td>5.13</td>\n",
       "      <td>-1.49</td>\n",
       "    </tr>\n",
       "    <tr>\n",
       "      <th>2</th>\n",
       "      <td>2</td>\n",
       "      <td>2020</td>\n",
       "      <td>6.62</td>\n",
       "      <td>2.89</td>\n",
       "    </tr>\n",
       "    <tr>\n",
       "      <th>3</th>\n",
       "      <td>3</td>\n",
       "      <td>2019</td>\n",
       "      <td>3.73</td>\n",
       "      <td>-0.21</td>\n",
       "    </tr>\n",
       "    <tr>\n",
       "      <th>4</th>\n",
       "      <td>4</td>\n",
       "      <td>2018</td>\n",
       "      <td>3.94</td>\n",
       "      <td>0.61</td>\n",
       "    </tr>\n",
       "  </tbody>\n",
       "</table>\n",
       "</div>"
      ],
      "text/plain": [
       "   Sr. No.  year  Inflation_rate(%)  Annual_growth(%)\n",
       "0        0  2022               6.70              1.57\n",
       "1        1  2021               5.13             -1.49\n",
       "2        2  2020               6.62              2.89\n",
       "3        3  2019               3.73             -0.21\n",
       "4        4  2018               3.94              0.61"
      ]
     },
     "execution_count": 3,
     "metadata": {},
     "output_type": "execute_result"
    }
   ],
   "source": [
    "# Renaming columns and preparing data for analysis:\n",
    "data.rename(columns={'Unnamed: 0': 'Sr. No.','Inflation_Rate': 'Inflation_rate(%)','Annual_percent_geowth':'Annual_growth(%)'},inplace = True)\n",
    "data['Inflation_rate(%)'] = data['Inflation_rate(%)'].str.replace('%','').astype(float)\n",
    "data['Annual_growth(%)'] = data['Annual_growth(%)'].str.replace('%','').astype(float)\n",
    "data.head()"
   ]
  },
  {
   "cell_type": "markdown",
   "id": "b029822c-80ce-4e54-aada-f5788737e971",
   "metadata": {},
   "source": [
    "### Mean"
   ]
  },
  {
   "cell_type": "code",
   "execution_count": 4,
   "id": "20227c0e-8ddf-498b-b228-022861f845b1",
   "metadata": {},
   "outputs": [
    {
     "name": "stdout",
     "output_type": "stream",
     "text": [
      "Mean Inflation Rate: 7.366\n",
      "Mean Annual Percent Growth: 0.078\n"
     ]
    }
   ],
   "source": [
    "# Calculating mean\n",
    "mean_inflation_rate = round(data['Inflation_rate(%)'].mean(),3)\n",
    "mean_annual_growth = round(data['Annual_growth(%)'].mean(),3)\n",
    "print(\"Mean Inflation Rate:\", mean_inflation_rate)\n",
    "print(\"Mean Annual Percent Growth:\", mean_annual_growth)"
   ]
  },
  {
   "cell_type": "markdown",
   "id": "4714c5f2-8b3d-4797-bd36-6e8e1f34504d",
   "metadata": {},
   "source": [
    "- Mean Inflation Rate \n",
    "    - A higher mean inflation rate indicates that, on average, prices are increasing at a relatively high rate.\n",
    "- Mean Annual Percent Growth\n",
    "    - It refer to the average annual growth rate of a particular economic indicator or metric.\n",
    "    - A positive mean indicates overall growth, while a negative mean would indicate overall decline."
   ]
  },
  {
   "cell_type": "markdown",
   "id": "da22f123-1d10-4e21-a382-da0904382382",
   "metadata": {},
   "source": [
    "### Median"
   ]
  },
  {
   "cell_type": "code",
   "execution_count": 5,
   "id": "f9c6fc49-f228-460c-88be-6e99f770596b",
   "metadata": {},
   "outputs": [
    {
     "name": "stdout",
     "output_type": "stream",
     "text": [
      "\n",
      "Median Inflation Rate: 6.67\n",
      "Median Annual Percent Growth: 0.07\n"
     ]
    }
   ],
   "source": [
    "# Calculating median\n",
    "median_inflation_rate = round(data['Inflation_rate(%)'].median(),3)\n",
    "median_annual_growth = round(data['Annual_growth(%)'].median(),3)\n",
    "print(\"\\nMedian Inflation Rate:\", median_inflation_rate)\n",
    "print(\"Median Annual Percent Growth:\", median_annual_growth)"
   ]
  },
  {
   "cell_type": "markdown",
   "id": "da33c4d3-d76c-4ba1-a74d-f3bf4f6d16ae",
   "metadata": {},
   "source": [
    "- Median Inflation Rate\n",
    "    - It gives a measure of central tendency that is less affected by outliers compared to the mean.\n",
    "    - In this case, the median inflation rate is slightly lower than the mean, indicating that there might be some outliers pulling the mean upwards.\n",
    "- Median Annual Percent Growth\n",
    "    - Similar to the median inflation rate, this represents the middle value of the annual percent growth data."
   ]
  },
  {
   "cell_type": "markdown",
   "id": "3f1b2ecb-68d2-4f66-82fe-6ea9160d8d22",
   "metadata": {},
   "source": [
    "### Mode"
   ]
  },
  {
   "cell_type": "code",
   "execution_count": 6,
   "id": "2663552b-462e-4592-8c06-f3a4a7171d23",
   "metadata": {},
   "outputs": [
    {
     "name": "stdout",
     "output_type": "stream",
     "text": [
      "\n",
      "Mode Inflation Rate: -7.63\n",
      "Mode Annual Percent Growth: -0.08\n"
     ]
    }
   ],
   "source": [
    "# Calculating mode\n",
    "mode_inflation_rate = round(data['Inflation_rate(%)'].mode().iloc[0],3)\n",
    "mode_annual_growth = round(data['Annual_growth(%)'].mode().iloc[0],3)\n",
    "print(\"\\nMode Inflation Rate:\", mode_inflation_rate)\n",
    "print(\"Mode Annual Percent Growth:\", mode_annual_growth)"
   ]
  },
  {
   "cell_type": "markdown",
   "id": "8d5fa845-4694-4897-990a-9dfa590b76ea",
   "metadata": {},
   "source": [
    "- Mode Inflation Rate\n",
    "    - It's worth noting that a negative mode could indicate periods of deflation or significant decreases in prices.\n",
    "- Mode Annual Percent Growth\n",
    "    - A negative mode could indicate periods of economic contraction or decline."
   ]
  },
  {
   "cell_type": "markdown",
   "id": "12a1bc32-3734-48ba-868a-146e82fa9309",
   "metadata": {},
   "source": [
    "### Variance"
   ]
  },
  {
   "cell_type": "code",
   "execution_count": 7,
   "id": "f18e22b3-6216-4ca2-9b41-79c5ded7509b",
   "metadata": {},
   "outputs": [
    {
     "name": "stdout",
     "output_type": "stream",
     "text": [
      "\n",
      "Variance Inflation Rate: 23.708\n",
      "Variance Annual Percent Growth: 30.608\n"
     ]
    }
   ],
   "source": [
    "# Calculating variance\n",
    "variance_inflation_rate = round(data['Inflation_rate(%)'].var(),3)\n",
    "variance_annual_growth = round(data['Annual_growth(%)'].var(),3)\n",
    "print(\"\\nVariance Inflation Rate:\", variance_inflation_rate)\n",
    "print(\"Variance Annual Percent Growth:\", variance_annual_growth)"
   ]
  },
  {
   "cell_type": "markdown",
   "id": "10ad8c84-e109-42b5-ae7c-cce93d9455a0",
   "metadata": {},
   "source": [
    "- Variance Inflation Rate\n",
    "    - Variance measures the spread or dispersion of data points around the mean.\n",
    "    - A higher variance indicates greater variability in inflation rates across the dataset.\n",
    "    - In this case, a variance of 23.708 suggests moderate variability.\n",
    "- Variance Annual Percent Growth\n",
    "    - A higher variance indicates greater variability in annual growth rates."
   ]
  },
  {
   "cell_type": "markdown",
   "id": "b2bdf190-bfd7-4742-9f4d-efbd33d5c9f4",
   "metadata": {},
   "source": [
    "### Standard Deviation"
   ]
  },
  {
   "cell_type": "code",
   "execution_count": 8,
   "id": "a251560c-1e4d-4d65-861c-a9063ed8af48",
   "metadata": {},
   "outputs": [
    {
     "name": "stdout",
     "output_type": "stream",
     "text": [
      "\n",
      "Standard Deviation Inflation Rate: 4.869\n",
      "Standard Deviation Annual Percent Growth: 5.532\n"
     ]
    }
   ],
   "source": [
    "# Calculating standard deviation\n",
    "std_dev_inflation_rate = round(data['Inflation_rate(%)'].std(),3)\n",
    "std_dev_annual_growth = round(data['Annual_growth(%)'].std(),3)\n",
    "print(\"\\nStandard Deviation Inflation Rate:\", std_dev_inflation_rate)\n",
    "print(\"Standard Deviation Annual Percent Growth:\", std_dev_annual_growth)"
   ]
  },
  {
   "cell_type": "markdown",
   "id": "ff3b3e75-f41c-48b4-a433-c60c97bade66",
   "metadata": {},
   "source": [
    "- SD Inflation Rate\n",
    "    - SD is another measure of the spread of data points around the mean.\n",
    "    - It's the square root of the variance and is expressed in the same units as the original data.\n",
    "    - A higher SD indicates greater variability in inflation rates.\n",
    "- SD Annual Percent Growth\n",
    "    - A higher SD indicates greater variability in annual growth rates."
   ]
  },
  {
   "cell_type": "markdown",
   "id": "f311007d-3a7e-48f9-bebb-b38454bbeafb",
   "metadata": {},
   "source": [
    "# Correlation"
   ]
  },
  {
   "cell_type": "code",
   "execution_count": 9,
   "id": "281f9df5-7c9c-4d64-af80-e85923620669",
   "metadata": {},
   "outputs": [
    {
     "name": "stdout",
     "output_type": "stream",
     "text": [
      "\n",
      "Correlation between Inflation Rate and Annual Percent Growth: 0.559\n"
     ]
    }
   ],
   "source": [
    "# Calculating correlation\n",
    "correlation = round(data['Inflation_rate(%)'].corr(data['Annual_growth(%)']),3)\n",
    "print(\"\\nCorrelation between Inflation Rate and Annual Percent Growth:\", correlation)"
   ]
  },
  {
   "cell_type": "markdown",
   "id": "040526a6-898b-417d-84d1-4acf00b8564e",
   "metadata": {},
   "source": [
    "- Correlation\n",
    "    - Correlation measures the strength and direction of the linear relationship between two variables.\n",
    "    - A correlation of 0.559 indicates a moderately positive linear relationship between inflation rate and annual percent growth.\n",
    "    - This means that as one variable (inflation rate) tends to increase, the other variable (annual percent growth) also tends to increase, and vice versa."
   ]
  },
  {
   "cell_type": "markdown",
   "id": "2c76e00c-f38c-4e4e-98c3-9770f1d4df10",
   "metadata": {},
   "source": [
    "#### Below build in function to get the descriptive statistics results "
   ]
  },
  {
   "cell_type": "code",
   "execution_count": 10,
   "id": "64c34167-4dd4-4a9c-8524-9be061415701",
   "metadata": {},
   "outputs": [
    {
     "name": "stdout",
     "output_type": "stream",
     "text": [
      "       Inflation_rate(%)  Annual_growth(%)\n",
      "count             63.000            63.000\n",
      "mean               7.366             0.078\n",
      "std                4.869             5.532\n",
      "min               -7.630           -22.850\n",
      "25%                4.130            -1.910\n",
      "50%                6.670             0.070\n",
      "75%                9.750             2.120\n",
      "max               28.600            15.940\n"
     ]
    }
   ],
   "source": [
    "summary = round(data[['Inflation_rate(%)','Annual_growth(%)']].describe(),3)\n",
    "print(summary)"
   ]
  },
  {
   "cell_type": "markdown",
   "id": "99fd43c6-bee1-4e59-979e-996490359bd9",
   "metadata": {},
   "source": [
    "- data.describe()\n",
    "  - It  generates descriptive statistics summarizing the central tendency, dispersion, and shape of the dataset's distribution.\n",
    "  - Here's what each statistic means:\n",
    "    - count: Number of non-null observations in the column.\n",
    "    - mean: Average value of the column.\n",
    "    - std: Standard deviation, which measures the dispersion of values around the mean.\n",
    "    - min: Minimum value in the column.\n",
    "    - 25% (1st quartile): Value below which 25% of the data falls.\n",
    "    - 50% (2nd quartile or median): Value below which 50% of the data falls.\n",
    "    - 75% (3rd quartile): Value below which 75% of the data falls.\n",
    "    - max: Maximum value in the column."
   ]
  },
  {
   "cell_type": "markdown",
   "id": "1efe6ecc-4fae-467b-9c87-158c45399f14",
   "metadata": {},
   "source": [
    "<div class=\"alert alert-block alert-success\">\n",
    "<b>END</b>\n",
    "</div>"
   ]
  },
  {
   "cell_type": "code",
   "execution_count": null,
   "id": "397a5ad8-b1c3-4142-8349-9e971034e584",
   "metadata": {},
   "outputs": [],
   "source": []
  }
 ],
 "metadata": {
  "kernelspec": {
   "display_name": "Python 3 (ipykernel)",
   "language": "python",
   "name": "python3"
  },
  "language_info": {
   "codemirror_mode": {
    "name": "ipython",
    "version": 3
   },
   "file_extension": ".py",
   "mimetype": "text/x-python",
   "name": "python",
   "nbconvert_exporter": "python",
   "pygments_lexer": "ipython3",
   "version": "3.10.12"
  }
 },
 "nbformat": 4,
 "nbformat_minor": 5
}
